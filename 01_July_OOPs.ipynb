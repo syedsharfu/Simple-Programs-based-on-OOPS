{
 "cells": [
  {
   "cell_type": "markdown",
   "id": "29e50087-82bc-44b2-b52b-c86e5d2c6649",
   "metadata": {},
   "source": [
    "1) What is the primary goal of Object-Oriented Programming (OOP)?"
   ]
  },
  {
   "cell_type": "raw",
   "id": "3fad9ef9-8c34-4922-a622-52b7dd083d6c",
   "metadata": {},
   "source": [
    "The Primary Goal of the the OOP is to collect all the obejects like classes, list, string, dictionary etc in an oriented method which is the Blue print and execute it in single oriented method."
   ]
  },
  {
   "cell_type": "markdown",
   "id": "17dd0075-7d69-4913-95c7-58a3f930131d",
   "metadata": {},
   "source": [
    "2) What is an object in Python?"
   ]
  },
  {
   "cell_type": "raw",
   "id": "03e1e492-a4cd-41c7-9710-2bfd2aa55c16",
   "metadata": {},
   "source": [
    "The Object in Phyton are Classes that are user-defined blueprints that help us create an object. \n",
    "Objects are the instances of a particular class.\n",
    "Every other element in Python will be an object of some class, such as the string, dictionary, \n",
    "number(10,40), etc. will be an object of some corresponding built-in class(int, str) in Python.\n"
   ]
  },
  {
   "cell_type": "markdown",
   "id": "66541b04-fa0f-4d8a-bb17-7228e827ebed",
   "metadata": {},
   "source": [
    "3) What is a class in Python?"
   ]
  },
  {
   "cell_type": "raw",
   "id": "e9910a7d-5963-4c57-8b8a-5a5511817410",
   "metadata": {},
   "source": [
    "A class in Phyton is defined as a uer defined blue print of objects. In Python, a class is a user-defined data type that contains \n",
    "both the data itself and the methods that may be used to manipulate it. In a sense, classes serve as a template to create objects. \n",
    "They provide the characteristics and operations that the objects will employ. Suppose a class is a prototype of a building.\n"
   ]
  },
  {
   "cell_type": "markdown",
   "id": "b606bf4d-4732-463f-b9d3-0a2c4ba6442a",
   "metadata": {},
   "source": [
    "4) What are attributes and methods in a class?"
   ]
  },
  {
   "cell_type": "raw",
   "id": "fc239036-10d9-4be4-a93a-97915bf28123",
   "metadata": {},
   "source": [
    "The attributes in classes are the variables that are associated to the object that are used to the store the data related to the objects.\n",
    "The methods used in the classes are the functions which are associated to the objects to perform the program."
   ]
  },
  {
   "cell_type": "markdown",
   "id": "1cafb261-bcda-4a3f-be9f-7948cee1d0f6",
   "metadata": {},
   "source": [
    "5. What is the difference between class variables and instance variables in Python?"
   ]
  },
  {
   "cell_type": "raw",
   "id": "6ec31347-4221-472a-bd77-2660942da11c",
   "metadata": {},
   "source": [
    "Class Variable\n",
    "1. The class Variable are defined within the class but outside of any class method.\n",
    "2. The changes made to the class variables will affect all the instance.\n",
    "3. Class variables can be initialized either inside the class definition or outside the class definition.\n",
    "4. Class variables are accessed using the class name, followed by the variable name.\n",
    "5. Class variables are useful for storing data that is shared among all instances of a class, such as constants or default values.\n",
    "\n",
    "Instance Variable\n",
    "1. The Instance variables are defined within class methods, typically the constructor.\n",
    "2. The Changes made to the instance variable does not affect all the instances.\n",
    "3. The Instance variables are typically initialized in the constructor of the class.\n",
    "4. The Instance variables are accessed using the instance name, followed by the variable name.\n",
    "5. The Instance variables are used to store data that is unique to each instance of a class, such as object properties."
   ]
  },
  {
   "cell_type": "markdown",
   "id": "2bae95f7-0ad0-4ed5-b427-5058d287c6db",
   "metadata": {},
   "source": [
    "6. What is the purpose of the self parameter in Python class methods?"
   ]
  },
  {
   "cell_type": "raw",
   "id": "5e62113c-31d4-4e68-8c6e-81d46a627a57",
   "metadata": {},
   "source": [
    "The Self represents the instance of the class. By using the “self” we can access the attributes and methods of the class in Python. \n",
    "It binds the attributes with the given arguments. The reason you need to use self is because Python does not use the @ syntax \n",
    "to refer to instance attributes."
   ]
  },
  {
   "cell_type": "raw",
   "id": "05ab3d13-50a9-412c-a6ee-1d3653cbd51f",
   "metadata": {},
   "source": [
    "7. For a library management system, you have to design the \"Book\" class with OOP\n",
    "principles in mind. The “Book” class will have following attributes:\n",
    "a. title: Represents the title of the book.\n",
    "b. author: Represents the author(s) of the book.\n",
    "c. isbn: Represents the ISBN (International Standard Book Number) of the book.\n",
    "d. publication_year: Represents the year of publication of the book.\n",
    "e. available_copies: Represents the number of copies available for checkout.\n",
    "The class will also include the following methods:\n",
    "a. check_out(self): Decrements the available copies by one if there are copies\n",
    "available for checkout.\n",
    "b. return_book(self): Increments the available copies by one when a book is\n",
    "returned.\n",
    "c. display_book_info(self): Displays the information about the book, including its\n",
    "attributes and the number of available copies."
   ]
  },
  {
   "cell_type": "code",
   "execution_count": 62,
   "id": "e314a4a0-f35b-45b3-9354-8929b032fad0",
   "metadata": {},
   "outputs": [],
   "source": [
    "class Book:\n",
    "    def __init__(self,title,author,ISBN,publication_year,available_copies):\n",
    "        self.title=title\n",
    "        self.author=author\n",
    "        self.ISBN=ISBN\n",
    "        self.publication_year=publication_year\n",
    "        self.available_copies=available_copies\n",
    "        \n",
    "    def check_out (self,rent):\n",
    "          self.available_copies=self.available_copies - rent\n",
    "          \n",
    "    def return_book (self,return_book):\n",
    "          self.available_copies=self.available_copies + return_book\n",
    "      \n",
    "    def display_info(self):\n",
    "        print(f\"The Book title with {self.title} from {self.author} with the ISBN {self.ISBN} of year {self.publication_year} {self.available_copies} are available copies\")\n",
    "        \n",
    "    def __str__(self):\n",
    "        return(f\"The Book title with {self.title} from {self.author} with the ISBN {self.ISBN} of year {self.publication_year} {self.available_copies} are available copies\")\n",
    "    "
   ]
  },
  {
   "cell_type": "code",
   "execution_count": 63,
   "id": "9f9d4606-8380-47cd-a229-0a01047d16f1",
   "metadata": {},
   "outputs": [
    {
     "name": "stdout",
     "output_type": "stream",
     "text": [
      "The Book title with Learning Phyton from Krish with the ISBN PY789 of year 2023 50 are available copies\n"
     ]
    }
   ],
   "source": [
    "Book1=Book(\"Learning Phyton\", \"Krish\", \"PY789\", 2023, 50)\n",
    "print(Book1)"
   ]
  },
  {
   "cell_type": "code",
   "execution_count": 64,
   "id": "3bb41a93-670e-470e-a343-c296804bc62f",
   "metadata": {},
   "outputs": [],
   "source": [
    "Book1.check_out(20)"
   ]
  },
  {
   "cell_type": "code",
   "execution_count": 65,
   "id": "a7f1e01b-8125-4542-a43d-5a1e348dd241",
   "metadata": {},
   "outputs": [
    {
     "name": "stdout",
     "output_type": "stream",
     "text": [
      "The Book title with Learning Phyton from Krish with the ISBN PY789 of year 2023 30 are available copies\n"
     ]
    }
   ],
   "source": [
    "print(Book1)"
   ]
  },
  {
   "cell_type": "code",
   "execution_count": 66,
   "id": "1233a472-82a0-4a9f-bccf-62434a9f0059",
   "metadata": {},
   "outputs": [],
   "source": [
    "Book1.return_book(10)"
   ]
  },
  {
   "cell_type": "code",
   "execution_count": 67,
   "id": "055049db-1280-4710-a9f3-ab3741a11662",
   "metadata": {},
   "outputs": [
    {
     "name": "stdout",
     "output_type": "stream",
     "text": [
      "The Book title with Learning Phyton from Krish with the ISBN PY789 of year 2023 40 are available copies\n"
     ]
    }
   ],
   "source": [
    "print(Book1)"
   ]
  },
  {
   "cell_type": "code",
   "execution_count": 69,
   "id": "48094506-94ff-4ef3-8291-7a015ab59cb9",
   "metadata": {},
   "outputs": [
    {
     "name": "stdout",
     "output_type": "stream",
     "text": [
      "The Book title with Learning Phyton from Krish with the ISBN PY789 of year 2023 40 are available copies\n"
     ]
    }
   ],
   "source": [
    "Book1.display_info()"
   ]
  },
  {
   "cell_type": "raw",
   "id": "2d56c8cf-f1db-4de1-bb8d-743e85ba9a94",
   "metadata": {},
   "source": [
    "8. For a ticket booking system, you have to design the \"Ticket\" class with OOP\n",
    "principles in mind. The “Ticket” class should have the following attributes:\n",
    "a. ticket_id: Represents the unique identifier for the ticket.\n",
    "b. event_name: Represents the name of the event.\n",
    "c. event_date: Represents the date of the event.\n",
    "d. venue: Represents the venue of the event.\n",
    "e. seat_number: Represents the seat number associated with the ticket.\n",
    "f. price: Represents the price of the ticket.\n",
    "g. is_reserved: Represents the reservation status of the ticket.\n",
    "The class also includes the following methods:\n",
    "a. reserve_ticket(self): Marks the ticket as reserved if it is not already reserved.\n",
    "b. cancel_reservation(self): Cancels the reservation of the ticket if it is already\n",
    "reserved.\n",
    "c. display_ticket_info(self): Displays the information about the ticket, including its\n",
    "attributes and reservation status."
   ]
  },
  {
   "cell_type": "code",
   "execution_count": 175,
   "id": "5a7c2ece-3f2a-4cc1-8b96-bcb2d3752131",
   "metadata": {},
   "outputs": [],
   "source": [
    "class Ticket:\n",
    "    def __init__(self,ticket_id,event_name,event_date,venue,seat_number,price,is_reserved):\n",
    "        self.ticket_id=ticket_id\n",
    "        self.event_name=event_name\n",
    "        self.event_date=event_date\n",
    "        self.venue=venue\n",
    "        self.seat_number=seat_number\n",
    "        self.price=price\n",
    "        self.is_reserved=is_reserved\n",
    "        self.ticket=[]        \n",
    "        \n",
    "    def reserve_ticket (self,ticket):\n",
    "        if self.ticket_id == ticket:\n",
    "            print(\"It is already reserved\")\n",
    "        \n",
    "        else:\n",
    "            self.ticket.append(ticket)\n",
    "            print(f\" {ticket} it is reserved\")\n",
    "            \n",
    "          \n",
    "    def cancel_reservation (self,ticket):\n",
    "        if self.cancel_reservation == self.ticket_id:\n",
    "            print(f\" {ticket} It is Cancled\")\n",
    "            self.cancel_reservation.remove(ticket)\n",
    "        \n",
    "        else:\n",
    "            print(f\" {ticket} it is not reserved\")\n",
    "            \n",
    "      \n",
    "    def display_ticket_info(self):\n",
    "        print(f\"The Ticket id {self.ticket_id} for Comedy show {self.event_name} Munawar show on {self.event_date} at Bangalore clube for seat number {self.seat_number} at the price of Rs.{self.price} is {self.is_reserved}\")\n",
    "        for ticket in self.ticket:\n",
    "            print(ticket)\n",
    "            \n",
    "    def __str__(self):\n",
    "        return(f\"The Ticket id {self.ticket_id} for Comedy show {self.event_name} Munawar show on {self.event_date} at Bangalore clube for seat number {self.seat_number} at the price of Rs.{self.price} is {self.is_reserved}\")"
   ]
  },
  {
   "cell_type": "code",
   "execution_count": 176,
   "id": "f6962a96-262b-4c13-aa7c-96de2365a667",
   "metadata": {},
   "outputs": [
    {
     "name": "stdout",
     "output_type": "stream",
     "text": [
      "The Ticket id MF123 for Comedy show Tour India Munawar show on 1st July 2023 at Bangalore clube for seat number 2 at the price of Rs.2000 is reserved\n"
     ]
    }
   ],
   "source": [
    "Ticket1=Ticket(\"MF123\",\"Tour India\", \"1st July 2023\", \"Bangalore clube\", 2, 2000, \"reserved\")\n",
    "print(Ticket1)"
   ]
  },
  {
   "cell_type": "code",
   "execution_count": 177,
   "id": "e74c990b-3984-4033-bb8e-c097dc9132a8",
   "metadata": {},
   "outputs": [
    {
     "name": "stdout",
     "output_type": "stream",
     "text": [
      " 123 it is reserved\n"
     ]
    }
   ],
   "source": [
    "Ticket1.reserve_ticket(123)"
   ]
  },
  {
   "cell_type": "code",
   "execution_count": 178,
   "id": "95835c2b-05a1-4c6c-82eb-3bd0eb967929",
   "metadata": {},
   "outputs": [
    {
     "name": "stdout",
     "output_type": "stream",
     "text": [
      "The Ticket id MF123 for Comedy show Tour India Munawar show on 1st July 2023 at Bangalore clube for seat number 2 at the price of Rs.2000 is reserved\n",
      "123\n"
     ]
    }
   ],
   "source": [
    "Ticket1.display_ticket_info()"
   ]
  },
  {
   "cell_type": "code",
   "execution_count": 179,
   "id": "e7cac263-a377-430a-929b-323f4f810629",
   "metadata": {},
   "outputs": [
    {
     "name": "stdout",
     "output_type": "stream",
     "text": [
      "It is already reserved\n"
     ]
    }
   ],
   "source": [
    "Ticket1.reserve_ticket(\"MF123\")"
   ]
  },
  {
   "cell_type": "code",
   "execution_count": 180,
   "id": "3156cb36-543e-4f5a-9774-c522d11117ca",
   "metadata": {},
   "outputs": [
    {
     "name": "stdout",
     "output_type": "stream",
     "text": [
      "The Ticket id MF123 for Comedy show Tour India Munawar show on 1st July 2023 at Bangalore clube for seat number 2 at the price of Rs.2000 is reserved\n",
      "123\n"
     ]
    }
   ],
   "source": [
    "Ticket1.display_ticket_info()"
   ]
  },
  {
   "cell_type": "code",
   "execution_count": 181,
   "id": "c0de8f6c-a2d4-4b04-9b77-bdbee84aeae2",
   "metadata": {},
   "outputs": [
    {
     "name": "stdout",
     "output_type": "stream",
     "text": [
      " 123 it is not reserved\n"
     ]
    }
   ],
   "source": [
    "Ticket1.cancel_reservation(123)"
   ]
  },
  {
   "cell_type": "code",
   "execution_count": 182,
   "id": "1790658c-fc82-4972-bbf5-649098777bf1",
   "metadata": {},
   "outputs": [
    {
     "name": "stdout",
     "output_type": "stream",
     "text": [
      " MF123 it is not reserved\n"
     ]
    }
   ],
   "source": [
    "Ticket1.cancel_reservation(\"MF123\")"
   ]
  },
  {
   "cell_type": "code",
   "execution_count": 184,
   "id": "1f365180-df63-4afa-916d-7a85042b9acd",
   "metadata": {},
   "outputs": [
    {
     "name": "stdout",
     "output_type": "stream",
     "text": [
      "The Ticket id MF123 for Comedy show Tour India Munawar show on 1st July 2023 at Bangalore clube for seat number 2 at the price of Rs.2000 is reserved\n",
      "123\n"
     ]
    }
   ],
   "source": [
    "Ticket1.display_ticket_info()"
   ]
  },
  {
   "cell_type": "code",
   "execution_count": 186,
   "id": "b7997a3b-ee35-4718-9b9c-6b14324aa526",
   "metadata": {},
   "outputs": [],
   "source": [
    "class Ticket:\n",
    "    def __init__(self, ticket_id, event_name, event_date, venue, seat_number, price):\n",
    "        self.ticket_id = ticket_id\n",
    "        self.event_name = event_name\n",
    "        self.event_date = event_date\n",
    "        self.venue = venue\n",
    "        self.seat_number = seat_number\n",
    "        self.price = price\n",
    "        self.is_reserved = False\n",
    "\n",
    "    def reserve_ticket(self):\n",
    "        if not self.is_reserved:\n",
    "            self.is_reserved = True\n",
    "            print(f\"Ticket {self.ticket_id} has been reserved.\")\n",
    "        else:\n",
    "            print(f\"Ticket {self.ticket_id} is already reserved.\")\n",
    "\n",
    "    def cancel_reservation(self):\n",
    "        if self.is_reserved:\n",
    "            self.is_reserved = False\n",
    "            print(f\"Reservation for ticket {self.ticket_id} has been canceled.\")\n",
    "        else:\n",
    "            print(f\"Ticket {self.ticket_id} is not reserved, so it can't be canceled.\")\n",
    "\n",
    "    def display_ticket_info(self):\n",
    "        reserved_status = \"Reserved\" if self.is_reserved else \"Not Reserved\"\n",
    "        print(f\"Ticket ID: {self.ticket_id}\")\n",
    "        print(f\"Event Name: {self.event_name}\")\n",
    "        print(f\"Event Date: {self.event_date}\")\n",
    "        print(f\"Venue: {self.venue}\")\n",
    "        print(f\"Seat Number: {self.seat_number}\")\n",
    "        print(f\"Price: ${self.price}\")\n",
    "        print(f\"Reservation Status: {reserved_status}\")"
   ]
  },
  {
   "cell_type": "code",
   "execution_count": 187,
   "id": "7e52eddf-653e-44e6-9f94-69f9ffc1e398",
   "metadata": {},
   "outputs": [],
   "source": [
    "ticket1 = Ticket(1, \"Concert\", \"2023-10-20\", \"Main Arena\", \"A101\", 50.0)"
   ]
  },
  {
   "cell_type": "code",
   "execution_count": 188,
   "id": "4a30d6c1-908d-40ab-8a8a-b009ed4345dc",
   "metadata": {},
   "outputs": [
    {
     "name": "stdout",
     "output_type": "stream",
     "text": [
      "Ticket ID: 1\n",
      "Event Name: Concert\n",
      "Event Date: 2023-10-20\n",
      "Venue: Main Arena\n",
      "Seat Number: A101\n",
      "Price: $50.0\n",
      "Reservation Status: Not Reserved\n"
     ]
    }
   ],
   "source": [
    "ticket1.display_ticket_info()"
   ]
  },
  {
   "cell_type": "code",
   "execution_count": 190,
   "id": "1b1e3532-1a91-4406-b54f-dc5d4c2793ed",
   "metadata": {},
   "outputs": [
    {
     "name": "stdout",
     "output_type": "stream",
     "text": [
      "Ticket 1 has been reserved.\n"
     ]
    }
   ],
   "source": [
    "ticket1.reserve_ticket()"
   ]
  },
  {
   "cell_type": "code",
   "execution_count": 191,
   "id": "ed4ecb32-e941-45e4-9d59-aa17a5248c73",
   "metadata": {},
   "outputs": [
    {
     "name": "stdout",
     "output_type": "stream",
     "text": [
      "Ticket 1 is already reserved.\n"
     ]
    }
   ],
   "source": [
    "ticket1.reserve_ticket()"
   ]
  },
  {
   "cell_type": "code",
   "execution_count": 192,
   "id": "2b039953-b452-4bea-94b1-90a277faa8c7",
   "metadata": {},
   "outputs": [
    {
     "name": "stdout",
     "output_type": "stream",
     "text": [
      "Reservation for ticket 1 has been canceled.\n"
     ]
    }
   ],
   "source": [
    "ticket1.cancel_reservation()"
   ]
  },
  {
   "cell_type": "code",
   "execution_count": 193,
   "id": "1dd7600a-53e3-4f00-ab1c-b8e8b200f272",
   "metadata": {},
   "outputs": [
    {
     "name": "stdout",
     "output_type": "stream",
     "text": [
      "Ticket 1 is not reserved, so it can't be canceled.\n"
     ]
    }
   ],
   "source": [
    "ticket1.cancel_reservation()"
   ]
  },
  {
   "cell_type": "raw",
   "id": "47ceb806-32bf-4f35-88a2-f5c9b5a2adc7",
   "metadata": {},
   "source": [
    "9) You are creating a shopping cart for an e-commerce website. Using OOP to model\n",
    "the \"ShoppingCart\" functionality the class should contain following attributes and\n",
    "methods:\n",
    "a. items: Represents the list of items in the shopping cart.\n",
    "The class also includes the following methods:\n",
    "\n",
    "a. add_item(self, item): Adds an item to the shopping cart by appending it to the\n",
    "list of items.\n",
    "b. remove_item(self, item): Removes an item from the shopping cart if it exists in\n",
    "the list.\n",
    "c. view_cart(self): Displays the items currently present in the shopping cart.\n",
    "d. clear_cart(self): Clears all items from the shopping cart by reassigning an\n",
    "empty list to the items attribute."
   ]
  },
  {
   "cell_type": "code",
   "execution_count": 197,
   "id": "cf94021e-3ac9-4c8e-8da8-b8cacd9ab3b6",
   "metadata": {},
   "outputs": [],
   "source": [
    "class ShoppingCart:\n",
    "    def __init__(self):\n",
    "        self.items = []\n",
    "\n",
    "    def add_item(self, item):\n",
    "        self.items.append(item)\n",
    "        print(f\"Added {item} to the shopping cart.\")\n",
    "\n",
    "    def remove_item(self, item):\n",
    "        if item in self.items:\n",
    "            self.items.remove(item)\n",
    "            print(f\"Removed {item} from the shopping cart.\")\n",
    "        else:\n",
    "            print(f\"{item} is not in the shopping cart.\")\n",
    "\n",
    "    def view_cart(self):\n",
    "        if not self.items:\n",
    "            print(\"The shopping cart is empty.\")\n",
    "        else:\n",
    "            print(\"Items in the shopping cart:\")\n",
    "            for item in self.items:\n",
    "                print(f\"- {item}\")\n",
    "\n",
    "    def clear_cart(self):\n",
    "        self.items = []\n",
    "        print(\"Cleared the shopping cart.\")\n"
   ]
  },
  {
   "cell_type": "code",
   "execution_count": 198,
   "id": "296065d8-0da7-4606-98ff-b5b327d43e2f",
   "metadata": {},
   "outputs": [],
   "source": [
    "cart = ShoppingCart()"
   ]
  },
  {
   "cell_type": "code",
   "execution_count": 199,
   "id": "70ee4174-9d7e-4ac7-8ef8-a5dec0542b97",
   "metadata": {},
   "outputs": [
    {
     "name": "stdout",
     "output_type": "stream",
     "text": [
      "Added Item 1 to the shopping cart.\n"
     ]
    }
   ],
   "source": [
    "cart.add_item(\"Item 1\")"
   ]
  },
  {
   "cell_type": "code",
   "execution_count": 200,
   "id": "9529de13-92e7-4b4f-a8ee-994d52745613",
   "metadata": {},
   "outputs": [
    {
     "name": "stdout",
     "output_type": "stream",
     "text": [
      "Added Item 2 to the shopping cart.\n"
     ]
    }
   ],
   "source": [
    "cart.add_item(\"Item 2\")"
   ]
  },
  {
   "cell_type": "code",
   "execution_count": 201,
   "id": "60cc3659-f18d-4811-9f53-d5b0177e3f2d",
   "metadata": {},
   "outputs": [
    {
     "name": "stdout",
     "output_type": "stream",
     "text": [
      "Added Item 3 to the shopping cart.\n"
     ]
    }
   ],
   "source": [
    "cart.add_item(\"Item 3\")"
   ]
  },
  {
   "cell_type": "code",
   "execution_count": 202,
   "id": "09a9709c-4a60-4ddf-ae73-7434fa8fb4e0",
   "metadata": {},
   "outputs": [
    {
     "name": "stdout",
     "output_type": "stream",
     "text": [
      "Items in the shopping cart:\n",
      "- Item 1\n",
      "- Item 2\n",
      "- Item 3\n"
     ]
    }
   ],
   "source": [
    "cart.view_cart()"
   ]
  },
  {
   "cell_type": "code",
   "execution_count": 203,
   "id": "a0c713f8-0c5f-499d-b782-4914fee37c6c",
   "metadata": {},
   "outputs": [
    {
     "name": "stdout",
     "output_type": "stream",
     "text": [
      "Removed Item 2 from the shopping cart.\n"
     ]
    }
   ],
   "source": [
    "cart.remove_item(\"Item 2\")"
   ]
  },
  {
   "cell_type": "code",
   "execution_count": 204,
   "id": "6b7da257-a93e-4d65-a119-66c9be3ac7cb",
   "metadata": {},
   "outputs": [
    {
     "name": "stdout",
     "output_type": "stream",
     "text": [
      "Items in the shopping cart:\n",
      "- Item 1\n",
      "- Item 3\n"
     ]
    }
   ],
   "source": [
    "cart.view_cart()"
   ]
  },
  {
   "cell_type": "code",
   "execution_count": 205,
   "id": "a275aae4-b3ca-48ed-9208-4c46f071c583",
   "metadata": {},
   "outputs": [
    {
     "name": "stdout",
     "output_type": "stream",
     "text": [
      "Cleared the shopping cart.\n"
     ]
    }
   ],
   "source": [
    "cart.clear_cart()"
   ]
  },
  {
   "cell_type": "code",
   "execution_count": 206,
   "id": "16ca2841-1dfe-4705-80a3-3ea277df2084",
   "metadata": {},
   "outputs": [
    {
     "name": "stdout",
     "output_type": "stream",
     "text": [
      "The shopping cart is empty.\n"
     ]
    }
   ],
   "source": [
    "cart.view_cart()"
   ]
  },
  {
   "cell_type": "raw",
   "id": "9e726301-7272-4da9-b171-31627b3423e7",
   "metadata": {},
   "source": [
    "10. Imagine a school management system. You have to design the \"Student\" class using\n",
    "OOP concepts.The “Student” class has the following attributes:\n",
    "a. name: Represents the name of the student.\n",
    "b. age: Represents the age of the student.\n",
    "c. grade: Represents the grade or class of the student.\n",
    "d. student_id: Represents the unique identifier for the student.\n",
    "e. attendance: Represents the attendance record of the student.\n",
    "The class should also include the following methods:\n",
    "a. update_attendance(self, date, status): Updates the attendance record of the\n",
    "student for a given date with the provided status (e.g., present or absent).\n",
    "b. get_attendance(self): Returns the attendance record of the student.\n",
    "c. get_average_attendance(self): Calculates and returns the average\n",
    "attendance percentage of the student based on their attendance record."
   ]
  },
  {
   "cell_type": "code",
   "execution_count": 207,
   "id": "cba95c35-40c9-4064-9784-0c8d76d3bf42",
   "metadata": {},
   "outputs": [],
   "source": [
    "class Student:\n",
    "    def __init__(self, name, age, grade, student_id):\n",
    "        self.name = name\n",
    "        self.age = age\n",
    "        self.grade = grade\n",
    "        self.student_id = student_id\n",
    "        self.attendance = {}\n",
    "\n",
    "    def update_attendance(self, date, status):\n",
    "        self.attendance[date] = status\n",
    "        print(f\"Attendance for {date}: {status}\")\n",
    "\n",
    "    def get_attendance(self):\n",
    "        return self.attendance\n",
    "\n",
    "    def get_average_attendance(self):\n",
    "        total_days = len(self.attendance)\n",
    "        if total_days == 0:\n",
    "            return 0  # Avoid division by zero if there's no attendance record\n",
    "        present_days = list(self.attendance.values()).count(\"present\")\n",
    "        attendance_percentage = (present_days / total_days) * 100\n",
    "        return attendance_percentage"
   ]
  },
  {
   "cell_type": "code",
   "execution_count": 208,
   "id": "764ce7e6-443a-499c-a670-bb3df2650605",
   "metadata": {},
   "outputs": [],
   "source": [
    "student1 = Student(\"John Doe\", 15, \"10th grade\", \"12345\")"
   ]
  },
  {
   "cell_type": "code",
   "execution_count": 209,
   "id": "666a529e-86ea-449d-aeaa-14ddceaa99a7",
   "metadata": {},
   "outputs": [
    {
     "name": "stdout",
     "output_type": "stream",
     "text": [
      "Attendance for 2023-10-12: present\n"
     ]
    }
   ],
   "source": [
    "student1.update_attendance(\"2023-10-12\", \"present\")"
   ]
  },
  {
   "cell_type": "code",
   "execution_count": 210,
   "id": "f6fea382-8def-4967-a7a0-1626a59d6141",
   "metadata": {},
   "outputs": [
    {
     "name": "stdout",
     "output_type": "stream",
     "text": [
      "Attendance for 2023-10-13: absent\n"
     ]
    }
   ],
   "source": [
    "student1.update_attendance(\"2023-10-13\", \"absent\")"
   ]
  },
  {
   "cell_type": "code",
   "execution_count": 211,
   "id": "36380505-03a3-48e5-8832-f3226871a9c6",
   "metadata": {},
   "outputs": [
    {
     "name": "stdout",
     "output_type": "stream",
     "text": [
      "Attendance for 2023-10-14: present\n"
     ]
    }
   ],
   "source": [
    "student1.update_attendance(\"2023-10-14\", \"present\")"
   ]
  },
  {
   "cell_type": "code",
   "execution_count": 212,
   "id": "c3b791cc-ef2b-4ea0-b633-c36dd80f2cb1",
   "metadata": {},
   "outputs": [
    {
     "name": "stdout",
     "output_type": "stream",
     "text": [
      "Attendance Record:\n"
     ]
    }
   ],
   "source": [
    "print(\"Attendance Record:\")"
   ]
  },
  {
   "cell_type": "code",
   "execution_count": 213,
   "id": "e04bc210-3702-4c90-b9b5-0b6749bbf90f",
   "metadata": {},
   "outputs": [
    {
     "name": "stdout",
     "output_type": "stream",
     "text": [
      "2023-10-12: present\n",
      "2023-10-13: absent\n",
      "2023-10-14: present\n"
     ]
    }
   ],
   "source": [
    "for date, status in student1.get_attendance().items():\n",
    "        print(f\"{date}: {status}\")"
   ]
  },
  {
   "cell_type": "code",
   "execution_count": 216,
   "id": "737d72a2-c719-485d-903d-76e9476c662b",
   "metadata": {},
   "outputs": [
    {
     "name": "stdout",
     "output_type": "stream",
     "text": [
      "Average Attendance: 66.67%\n"
     ]
    }
   ],
   "source": [
    "average_attendance = student1.get_average_attendance()\n",
    "print(f\"Average Attendance: {average_attendance:.2f}%\")"
   ]
  }
 ],
 "metadata": {
  "kernelspec": {
   "display_name": "Python 3 (ipykernel)",
   "language": "python",
   "name": "python3"
  },
  "language_info": {
   "codemirror_mode": {
    "name": "ipython",
    "version": 3
   },
   "file_extension": ".py",
   "mimetype": "text/x-python",
   "name": "python",
   "nbconvert_exporter": "python",
   "pygments_lexer": "ipython3",
   "version": "3.10.6"
  }
 },
 "nbformat": 4,
 "nbformat_minor": 5
}
